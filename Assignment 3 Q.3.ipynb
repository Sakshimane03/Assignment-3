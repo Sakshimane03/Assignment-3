{
 "cells": [
  {
   "cell_type": "markdown",
   "id": "17dba273",
   "metadata": {},
   "source": [
    "**Q.3 Write a Python function that accepts a string and calculate the number of upper case letters and lower case letters**"
   ]
  },
  {
   "cell_type": "code",
   "execution_count": 24,
   "id": "95cc26d0",
   "metadata": {},
   "outputs": [
    {
     "name": "stdout",
     "output_type": "stream",
     "text": [
      "count of upper case : 3\n",
      "count of lower case : 12\n"
     ]
    }
   ],
   "source": [
    "def string(n):\n",
    "    upper = 0\n",
    "    lower = 0\n",
    "    for i in n:\n",
    "        if i.isupper():\n",
    "            upper +=1\n",
    "        elif i.islower():\n",
    "            lower += 1\n",
    "    print(\"count of upper case :\", upper)\n",
    "    print(\"count of lower case :\", lower)\n",
    "string(\"The quick Brow Fox\")       "
   ]
  },
  {
   "cell_type": "code",
   "execution_count": null,
   "id": "dfebc9ef",
   "metadata": {},
   "outputs": [],
   "source": []
  }
 ],
 "metadata": {
  "kernelspec": {
   "display_name": "Python 3 (ipykernel)",
   "language": "python",
   "name": "python3"
  },
  "language_info": {
   "codemirror_mode": {
    "name": "ipython",
    "version": 3
   },
   "file_extension": ".py",
   "mimetype": "text/x-python",
   "name": "python",
   "nbconvert_exporter": "python",
   "pygments_lexer": "ipython3",
   "version": "3.10.1"
  }
 },
 "nbformat": 4,
 "nbformat_minor": 5
}
