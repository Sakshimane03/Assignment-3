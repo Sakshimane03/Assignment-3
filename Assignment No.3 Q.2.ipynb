{
 "cells": [
  {
   "cell_type": "markdown",
   "id": "0d873a9d",
   "metadata": {},
   "source": [
    "**Q.2. Write a Python program to reverse a string.**"
   ]
  },
  {
   "cell_type": "code",
   "execution_count": 3,
   "id": "7ecfee87",
   "metadata": {},
   "outputs": [
    {
     "data": {
      "text/plain": [
       "'dcba4321'"
      ]
     },
     "execution_count": 3,
     "metadata": {},
     "output_type": "execute_result"
    }
   ],
   "source": [
    "def reverse_string(n):\n",
    "    return n[::-1]\n",
    "reverse_string(\"1234abcd\")  "
   ]
  },
  {
   "cell_type": "code",
   "execution_count": null,
   "id": "d43fe76c",
   "metadata": {},
   "outputs": [],
   "source": []
  }
 ],
 "metadata": {
  "kernelspec": {
   "display_name": "Python 3 (ipykernel)",
   "language": "python",
   "name": "python3"
  },
  "language_info": {
   "codemirror_mode": {
    "name": "ipython",
    "version": 3
   },
   "file_extension": ".py",
   "mimetype": "text/x-python",
   "name": "python",
   "nbconvert_exporter": "python",
   "pygments_lexer": "ipython3",
   "version": "3.10.1"
  }
 },
 "nbformat": 4,
 "nbformat_minor": 5
}
