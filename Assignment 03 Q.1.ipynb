{
 "cells": [
  {
   "cell_type": "markdown",
   "id": "2fd0dfeb",
   "metadata": {},
   "source": [
    "**Q.1 Write a Python function to sum all the numbers in a list**"
   ]
  },
  {
   "cell_type": "code",
   "execution_count": 2,
   "id": "365e619f",
   "metadata": {},
   "outputs": [
    {
     "data": {
      "text/plain": [
       "20"
      ]
     },
     "execution_count": 2,
     "metadata": {},
     "output_type": "execute_result"
    }
   ],
   "source": [
    "a = (8, 2, 3, 0, 7)\n",
    "def summation(*numbers):\n",
    "    num1=0\n",
    "    for i in numbers:\n",
    "        num1+=i\n",
    "    return num1\n",
    "summation(8, 2, 3, 0, 7)\n",
    "    "
   ]
  },
  {
   "cell_type": "code",
   "execution_count": null,
   "id": "0a77e856",
   "metadata": {},
   "outputs": [],
   "source": []
  }
 ],
 "metadata": {
  "kernelspec": {
   "display_name": "Python 3 (ipykernel)",
   "language": "python",
   "name": "python3"
  },
  "language_info": {
   "codemirror_mode": {
    "name": "ipython",
    "version": 3
   },
   "file_extension": ".py",
   "mimetype": "text/x-python",
   "name": "python",
   "nbconvert_exporter": "python",
   "pygments_lexer": "ipython3",
   "version": "3.10.1"
  }
 },
 "nbformat": 4,
 "nbformat_minor": 5
}
